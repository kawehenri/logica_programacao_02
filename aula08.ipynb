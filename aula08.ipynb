{
 "cells": [
  {
   "cell_type": "code",
   "execution_count": 7,
   "metadata": {},
   "outputs": [
    {
     "name": "stdout",
     "output_type": "stream",
     "text": [
      "         *\n",
      "         **\n",
      "         ***\n",
      "         ****\n",
      "         *****\n",
      "         ******\n",
      "         *******\n",
      "         ********\n",
      "         *********\n"
     ]
    }
   ],
   "source": [
    "altura = int(input('Digite a altura da árvore: '))\n",
    "\n",
    "for i in range(1, altura):\n",
    "    for _ in range(altura - i):\n",
    "        print(\" \", end = \"\")\n",
    "\n",
    "    for _ in range(i):\n",
    "        print(\"*\", end = \"\")\n",
    "\n",
    "    print()\n",
    "    altura +=1\n",
    "\n",
    "\n"
   ]
  },
  {
   "cell_type": "code",
   "execution_count": 17,
   "metadata": {},
   "outputs": [
    {
     "name": "stdout",
     "output_type": "stream",
     "text": [
      "Encontrei o dias\n"
     ]
    }
   ],
   "source": [
    "lista = ['lucas', 'natan', 'banks', 'kawê', 'dias']\n",
    "while True:\n",
    "    if 'dias' in lista:\n",
    "        print('Encontrei o dias')\n",
    "        break\n",
    "    else:\n",
    "        print('Não encontrei o dias')\n"
   ]
  },
  {
   "cell_type": "code",
   "execution_count": 13,
   "metadata": {},
   "outputs": [
    {
     "name": "stdout",
     "output_type": "stream",
     "text": [
      "['kawe']\n",
      "['kawe', 'henrique']\n",
      "['kawe', 'henrique', 'silva']\n",
      "['kawe', 'henrique', 'silva', 'lima']\n",
      "['kawe', 'henrique', 'silva', 'lima', 'lima']\n"
     ]
    }
   ],
   "source": [
    "lista_nomes = []\n",
    "\n",
    "while True:\n",
    "    nome = input(\"Digite o seu nome ou digite enter no vazio para sair : \")\n",
    "    if nome != \"\":\n",
    "        lista_nomes.append(nome)\n",
    "    else:\n",
    "        break\n",
    "\n",
    "    print(lista_nomes)\n",
    "    "
   ]
  },
  {
   "cell_type": "code",
   "execution_count": 16,
   "metadata": {},
   "outputs": [
    {
     "name": "stdout",
     "output_type": "stream",
     "text": [
      "         #\n",
      "        ###\n",
      "       #####\n",
      "      #######\n",
      "     #########\n",
      "    ###########\n",
      "   #############\n",
      "  ###############\n",
      " #################\n",
      "###################\n"
     ]
    }
   ],
   "source": [
    "while True:\n",
    "    altura = int(input('Digite a altura da piramide: '))\n",
    "\n",
    "    if altura > 0:\n",
    "        break\n",
    "\n",
    "for i in range(altura):\n",
    "    print(' ' * (altura - (i + 1)) + \"#\" * (2* i + 1))"
   ]
  }
 ],
 "metadata": {
  "kernelspec": {
   "display_name": "venv",
   "language": "python",
   "name": "python3"
  },
  "language_info": {
   "codemirror_mode": {
    "name": "ipython",
    "version": 3
   },
   "file_extension": ".py",
   "mimetype": "text/x-python",
   "name": "python",
   "nbconvert_exporter": "python",
   "pygments_lexer": "ipython3",
   "version": "3.12.6"
  }
 },
 "nbformat": 4,
 "nbformat_minor": 2
}
