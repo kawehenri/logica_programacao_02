{
 "cells": [
  {
   "cell_type": "code",
   "execution_count": 2,
   "metadata": {},
   "outputs": [
    {
     "name": "stdout",
     "output_type": "stream",
     "text": [
      "NATAN NATAN\n",
      "É um palíndromo\n"
     ]
    }
   ],
   "source": [
    "frase = str(input(\"Digite uma palavra ou frase: \")).strip().upper()\n",
    "\n",
    "palavras = frase.split()\n",
    "caractere = \"\".join(palavras)\n",
    "\n",
    "fraseinvertida = \"\"\n",
    "\n",
    "for i in range(len(caractere) -1, -1, -1):\n",
    "    fraseinvertida += caractere[i]\n",
    "\n",
    "print(caractere, fraseinvertida)\n",
    "\n",
    "if fraseinvertida == caractere:\n",
    "    print(\"É um palíndromo\")\n",
    "else:\n",
    "    print(\"Não é um palíndromo\")"
   ]
  },
  {
   "cell_type": "code",
   "execution_count": 3,
   "metadata": {},
   "outputs": [
    {
     "name": "stdout",
     "output_type": "stream",
     "text": [
      "cpf: 061.780.191-65\n"
     ]
    }
   ],
   "source": [
    "cpf = input(\"Digite seu cpf: \")\n",
    "print(f\"cpf: {cpf[:3]}.{cpf[3:6]}.{cpf[6:9]}-{cpf[9:]}\")"
   ]
  },
  {
   "cell_type": "code",
   "execution_count": 4,
   "metadata": {},
   "outputs": [
    {
     "name": "stdout",
     "output_type": "stream",
     "text": [
      "06178019165\n"
     ]
    }
   ],
   "source": [
    "\n",
    "cpf = input(\"Digite seu cpf: \").replace(\"-\", \"\").replace(\".\", \"\")\n",
    "print(cpf)"
   ]
  },
  {
   "cell_type": "code",
   "execution_count": 6,
   "metadata": {},
   "outputs": [
    {
     "name": "stdout",
     "output_type": "stream",
     "text": [
      "{'Pão': 'R$ 1.99', 'Café': 'R$ 1.99'}\n"
     ]
    }
   ],
   "source": [
    "dicionario = dict(\n",
    "    Pão = \"R$ 1.99\",\n",
    "    Café = \"R$ 1.99\"\n",
    ")\n",
    "\n",
    "print(dicionario)"
   ]
  },
  {
   "cell_type": "code",
   "execution_count": 7,
   "metadata": {},
   "outputs": [
    {
     "name": "stdout",
     "output_type": "stream",
     "text": [
      "{101: {'Nome': 'Chocolate', 'Preço': 5.0, 'estoque': 10}, 102: {'Nome': 'Pão', 'Preço': 16.99, 'estoque': 100}, 103: {'Nome': 'Biscoito', 'Preço': 2.99, 'estoque': 20}}\n",
      "Código: 101\n",
      "Nome: Chocolate\n",
      "Preço: 5.0\n",
      "Estoque: 10\n",
      "\n",
      "Código: 102\n",
      "Nome: Pão\n",
      "Preço: 16.99\n",
      "Estoque: 100\n",
      "\n",
      "Código: 103\n",
      "Nome: Biscoito\n",
      "Preço: 2.99\n",
      "Estoque: 20\n",
      "\n",
      "dict_items([('Nome', 'Chocolate'), ('Preço', 5.0), ('estoque', 10)])\n",
      "dict_values(['Chocolate', 5.0, 10])\n"
     ]
    }
   ],
   "source": [
    "\n",
    "produtos = {\n",
    "    101: {\"Nome\": \"Chocolate\", \"Preço\" : 5.00, \"estoque\" : 10},\n",
    "    102: {\"Nome\": \"Pão\", \"Preço\" : 16.99, \"estoque\" : 100},\n",
    "    103: {\"Nome\": \"Biscoito\", \"Preço\" : 2.99, \"estoque\" : 20}\n",
    "}\n",
    "\n",
    "print(produtos)\n",
    "\n",
    "for codigo, info in produtos.items():\n",
    "    print(f\"Código: {codigo}\")\n",
    "    print(f\"Nome: {info[\"Nome\"]}\")\n",
    "    print(f\"Preço: {info[\"Preço\"]}\")\n",
    "    print(f\"Estoque: {info[\"estoque\"]}\")\n",
    "    print()\n",
    "\n",
    "print(produtos[101].items())\n",
    "print(produtos[101].values())\n"
   ]
  }
 ],
 "metadata": {
  "kernelspec": {
   "display_name": "venv",
   "language": "python",
   "name": "python3"
  },
  "language_info": {
   "codemirror_mode": {
    "name": "ipython",
    "version": 3
   },
   "file_extension": ".py",
   "mimetype": "text/x-python",
   "name": "python",
   "nbconvert_exporter": "python",
   "pygments_lexer": "ipython3",
   "version": "3.12.6"
  }
 },
 "nbformat": 4,
 "nbformat_minor": 2
}
